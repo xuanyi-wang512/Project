{
 "cells": [
  {
   "cell_type": "code",
   "execution_count": 1,
   "id": "9d29e3cd-4e57-461b-b03d-955f8d7a76d7",
   "metadata": {},
   "outputs": [
    {
     "name": "stdout",
     "output_type": "stream",
     "text": [
      "Data saved to goodreads_books.csv\n"
     ]
    }
   ],
   "source": [
    "import requests\n",
    "from bs4 import BeautifulSoup\n",
    "import csv\n",
    "from datetime import datetime\n",
    "import time\n",
    "import random\n",
    "\n",
    "def scrape_goodreads_books(num_pages=5):\n",
    "    base_url = \"https://www.goodreads.com/list/show/1.Best_Books_Ever?page={}\"\n",
    "    books_data = []\n",
    "\n",
    "    headers = {\n",
    "        'User-Agent': 'Mozilla/5.0 (Windows NT 10.0; Win64; x64) AppleWebKit/537.36 (KHTML, like Gecko) Chrome/91.0.4472.124 Safari/537.36'\n",
    "    }\n",
    "\n",
    "    for page in range(1, num_pages + 1):\n",
    "        url = base_url.format(page)\n",
    "        response = requests.get(url, headers=headers)\n",
    "        soup = BeautifulSoup(response.content, 'html.parser')\n",
    "\n",
    "        books = soup.find_all('tr', {'itemtype': 'http://schema.org/Book'})\n",
    "\n",
    "        for book in books:\n",
    "            title = book.find('a', {'class': 'bookTitle'}).text.strip()\n",
    "            author = book.find('a', {'class': 'authorName'}).text.strip()\n",
    "            rating = book.find('span', {'class': 'minirating'}).text.strip().split('avg')[0].strip()\n",
    "            num_ratings = book.find('span', {'class': 'minirating'}).text.strip().split('—')[1].strip().split(' ')[0].replace(',', '')\n",
    "            \n",
    "            last_modified = response.headers.get('Last-Modified', None)\n",
    "            if last_modified:\n",
    "                timestamp = datetime.strptime(last_modified, '%a, %d %b %Y %H:%M:%S %Z').strftime('%Y-%m-%d %H:%M:%S')\n",
    "            else:\n",
    "                timestamp = datetime.now().strftime('%Y-%m-%d %H:%M:%S')\n",
    "\n",
    "            books_data.append({\n",
    "                'Title': title,\n",
    "                'Author': author,\n",
    "                'Rating': rating,\n",
    "                'Number of Ratings': num_ratings,\n",
    "                'Timestamp': timestamp\n",
    "            })\n",
    "\n",
    "        time.sleep(random.uniform(1, 3))\n",
    "\n",
    "    return books_data\n",
    "\n",
    "def save_to_csv(data, filename='goodreads_books.csv'):\n",
    "    with open(filename, 'w', newline='', encoding='utf-8') as csvfile:\n",
    "        fieldnames = ['Title', 'Author', 'Rating', 'Number of Ratings', 'Timestamp']\n",
    "        writer = csv.DictWriter(csvfile, fieldnames=fieldnames)\n",
    "\n",
    "        writer.writeheader()\n",
    "        for row in data:\n",
    "            writer.writerow(row)\n",
    "\n",
    "    print(f\"Data saved to {filename}\")\n",
    "\n",
    "if __name__ == \"__main__\":\n",
    "    books_data = scrape_goodreads_books()\n",
    "    save_to_csv(books_data)"
   ]
  },
  {
   "cell_type": "code",
   "execution_count": 3,
   "id": "c882d115-e7bd-4bf4-b688-8c4113e50bdf",
   "metadata": {},
   "outputs": [],
   "source": [
    "import pandas as pd\n",
    "data = pd.read_csv(\"goodreads_books.csv\")"
   ]
  },
  {
   "cell_type": "code",
   "execution_count": 8,
   "id": "afdfe5aa-223e-41b5-a050-6188306c93c9",
   "metadata": {},
   "outputs": [
    {
     "name": "stdout",
     "output_type": "stream",
     "text": [
      "<class 'pandas.core.frame.DataFrame'>\n",
      "RangeIndex: 500 entries, 0 to 499\n",
      "Data columns (total 5 columns):\n",
      " #   Column             Non-Null Count  Dtype \n",
      "---  ------             --------------  ----- \n",
      " 0   Title              500 non-null    object\n",
      " 1   Author             500 non-null    object\n",
      " 2   Rating             500 non-null    object\n",
      " 3   Number of Ratings  500 non-null    int64 \n",
      " 4   Timestamp          500 non-null    object\n",
      "dtypes: int64(1), object(4)\n",
      "memory usage: 19.7+ KB\n"
     ]
    }
   ],
   "source": [
    "data.info()"
   ]
  },
  {
   "cell_type": "code",
   "execution_count": 11,
   "id": "0bfd1cca-e7fa-4c33-b44a-08d8a6a87938",
   "metadata": {},
   "outputs": [
    {
     "data": {
      "text/plain": [
       "Title                  Wuthering Heights\n",
       "Author                      Emily Brontë\n",
       "Rating                              3.89\n",
       "Number of Ratings                1869398\n",
       "Timestamp            2024-10-13 12:35:17\n",
       "Name: 12, dtype: object"
      ]
     },
     "execution_count": 11,
     "metadata": {},
     "output_type": "execute_result"
    }
   ],
   "source": [
    "data.iloc[12]"
   ]
  },
  {
   "cell_type": "code",
   "execution_count": null,
   "id": "dbc67f02-3033-448b-a519-53e99b82d56e",
   "metadata": {},
   "outputs": [],
   "source": []
  }
 ],
 "metadata": {
  "kernelspec": {
   "display_name": "Python 3 (ipykernel)",
   "language": "python",
   "name": "python3"
  },
  "language_info": {
   "codemirror_mode": {
    "name": "ipython",
    "version": 3
   },
   "file_extension": ".py",
   "mimetype": "text/x-python",
   "name": "python",
   "nbconvert_exporter": "python",
   "pygments_lexer": "ipython3",
   "version": "3.11.5"
  }
 },
 "nbformat": 4,
 "nbformat_minor": 5
}
